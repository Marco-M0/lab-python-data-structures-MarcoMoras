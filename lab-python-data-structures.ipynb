{
 "cells": [
  {
   "cell_type": "markdown",
   "metadata": {
    "tags": []
   },
   "source": [
    "# Lab | Data Structures "
   ]
  },
  {
   "cell_type": "markdown",
   "metadata": {},
   "source": [
    "## Exercise: Managing Customer Orders\n",
    "\n",
    "As part of a business venture, you are starting an online store that sells various products. To ensure smooth operations, you need to develop a program that manages customer orders and inventory.\n",
    "\n",
    "Follow the steps below to complete the exercise:\n",
    "\n",
    "1. Define a list called `products` that contains the following items: \"t-shirt\", \"mug\", \"hat\", \"book\", \"keychain\".\n",
    "\n",
    "2. Create an empty dictionary called `inventory`.\n",
    "\n",
    "3. Ask the user to input the quantity of each product available in the inventory. Use the product names from the `products` list as keys in the `inventory` dictionary and assign the respective quantities as values.\n",
    "\n",
    "4. Create an empty set called `customer_orders`.\n",
    "\n",
    "5. Ask the user to input the name of three products that a customer wants to order (from those in the products list, meaning three products out of \"t-shirt\", \"mug\", \"hat\", \"book\" or \"keychain\". Add each product name to the `customer_orders` set.\n",
    "\n",
    "6. Print the products in the `customer_orders` set.\n",
    "\n",
    "7. Calculate the following order statistics:\n",
    "   - Total Products Ordered: The total number of products in the `customer_orders` set.\n",
    "   - Percentage of Products Ordered: The percentage of products ordered compared to the total available products.\n",
    "   \n",
    "   Store these statistics in a tuple called `order_status`.\n",
    "\n",
    "8. Print the order statistics using the following format:\n",
    "   ```\n",
    "   Order Statistics:\n",
    "   Total Products Ordered: <total_products_ordered>\n",
    "   Percentage of Products Ordered: <percentage_ordered>% \n",
    "   ```\n",
    "\n",
    "9. Update the inventory by subtracting 1 from the quantity of each product. Modify the `inventory` dictionary accordingly.\n",
    "\n",
    "10. Print the updated inventory, displaying the quantity of each product on separate lines.\n",
    "\n",
    "Solve the exercise by implementing the steps using the Python concepts of lists, dictionaries, sets, and basic input/output operations. "
   ]
  },
  {
   "cell_type": "code",
   "execution_count": 1,
   "metadata": {},
   "outputs": [
    {
     "data": {
      "text/plain": [
       "['t-shirt', 'mug', 'hat', 'book', 'keychain']"
      ]
     },
     "execution_count": 1,
     "metadata": {},
     "output_type": "execute_result"
    }
   ],
   "source": [
    "# 1. Define a list called products that contains the following items: \"t-shirt\", \"mug\", \"hat\", \"book\", \"keychain\".\n",
    "products = [\"t-shirt\", \"mug\", \"hat\", \"book\", \"keychain\"]\n",
    "products"
   ]
  },
  {
   "cell_type": "code",
   "execution_count": 3,
   "metadata": {},
   "outputs": [],
   "source": [
    "# 2. Create an empty dictionary called `inventory`.\n",
    "inventory = {}"
   ]
  },
  {
   "cell_type": "code",
   "execution_count": 173,
   "metadata": {},
   "outputs": [
    {
     "name": "stdin",
     "output_type": "stream",
     "text": [
      "How many t-shirts are in the inventory? 7\n",
      "How many mugs are in the inventory? 8\n",
      "How many hats are in the inventory? 9\n",
      "How many books are in the inventory? 6\n",
      "How many keychains are in the inventory? 5\n"
     ]
    },
    {
     "name": "stdout",
     "output_type": "stream",
     "text": [
      "{'t-shirt': 7, 'mug': 8, 'hat': 9, 'book': 6, 'keychain': 5}\n"
     ]
    }
   ],
   "source": [
    "# 3. Ask the user to input the quantity of each product available in the inventory. Use the product names from the `products` list as keys in the `inventory` dictionary and assign the respective quantities as values.\n",
    "inventory[\"t-shirt\"] = int(input(\"How many t-shirts are in the inventory?\"))\n",
    "inventory[\"mug\"] = int(input(\"How many mugs are in the inventory?\"))\n",
    "inventory[\"hat\"] = int(input(\"How many hats are in the inventory?\"))\n",
    "inventory[\"book\"] = int(input(\"How many books are in the inventory?\"))\n",
    "inventory[\"keychain\"] = int(input(\"How many keychains are in the inventory?\"))\n",
    "print(inventory)"
   ]
  },
  {
   "cell_type": "code",
   "execution_count": 175,
   "metadata": {},
   "outputs": [
    {
     "name": "stdout",
     "output_type": "stream",
     "text": [
      "<class 'set'>\n"
     ]
    }
   ],
   "source": [
    "# 4. Create an empty set called `customer_orders`.\n",
    "customer_orders = {0}\n",
    "print(type(customer_orders))"
   ]
  },
  {
   "cell_type": "code",
   "execution_count": 177,
   "metadata": {},
   "outputs": [
    {
     "name": "stdin",
     "output_type": "stream",
     "text": [
      "Select one of the following items: t-shirt, mug, hat, book, keychain. mug\n",
      "Select one of the following items: t-shirt, mug, hat, book, keychain. hat\n",
      "Select one of the following items: t-shirt, mug, hat, book, keychain. book\n"
     ]
    },
    {
     "name": "stdout",
     "output_type": "stream",
     "text": [
      "{'mug', 'hat', 'book'} <class 'set'>\n"
     ]
    }
   ],
   "source": [
    "# 5. Ask the user to input the name of three products that a customer wants to order (from those in the products list, meaning three products out of \"t-shirt\", \"mug\", \"hat\", \"book\" or \"keychain\". Add each product name to the `customer_orders` set.\n",
    "# 6. Print the products in the `customer_orders` set.\n",
    "i = 0\n",
    "while i < 3:\n",
    "    order_input = input(\"Select one of the following items: t-shirt, mug, hat, book, keychain.\")\n",
    "    customer_orders.add(order_input)\n",
    "    i = i + 1\n",
    "customer_orders.remove(0)\n",
    "print(customer_orders, type(customer_orders))"
   ]
  },
  {
   "cell_type": "code",
   "execution_count": 179,
   "metadata": {},
   "outputs": [
    {
     "name": "stdout",
     "output_type": "stream",
     "text": [
      "Total Products Ordered: 3\n",
      "Percentage of Products Ordered: 0.08571428571428572 %\n"
     ]
    }
   ],
   "source": [
    "# 7. Calculate the following order statistics:\n",
    "#   - Total Products Ordered: The total number of products in the `customer_orders` set.\n",
    "#   - Percentage of Products Ordered: The percentage of products ordered compared to the total available products.\n",
    "\n",
    "total_products_ordered = len(customer_orders)\n",
    "print(\"Total Products Ordered:\", total_products_ordered)\n",
    "total_inventory = sum(inventory.values())\n",
    "percentage_ordered = total_products_ordered / total_inventory\n",
    "print(\"Percentage of Products Ordered:\", percentage_ordered, \"%\")\n",
    "order_status = (total_products_ordered, percentage_ordered)"
   ]
  },
  {
   "cell_type": "code",
   "execution_count": 181,
   "metadata": {},
   "outputs": [
    {
     "name": "stdout",
     "output_type": "stream",
     "text": [
      "Order Statistics:\n",
      "Total Products Ordered: 3\n",
      "Percentage of Products Ordered: 0.08571428571428572 %\n"
     ]
    }
   ],
   "source": [
    "# 8. Print the order statistics using the following format:\n",
    "\n",
    "print(\"Order Statistics:\")\n",
    "print(\"Total Products Ordered:\", total_products_ordered)\n",
    "print(\"Percentage of Products Ordered:\", percentage_ordered, \"%\")\n"
   ]
  },
  {
   "cell_type": "code",
   "execution_count": 183,
   "metadata": {},
   "outputs": [
    {
     "name": "stdout",
     "output_type": "stream",
     "text": [
      "mug  is in the order\n",
      "hat  is in the order\n",
      "book  is in the order\n",
      "\n",
      "Updated inventory:\n",
      "t-shirt 7\n",
      "mug 7\n",
      "hat 8\n",
      "book 5\n",
      "keychain 5\n"
     ]
    }
   ],
   "source": [
    "#9. Update the inventory by subtracting 1 from the quantity of each product. Modify the `inventory` dictionary accordingly.\n",
    "#10. Print the updated inventory, displaying the quantity of each product on separate lines.\n",
    "\n",
    "customer_list = list(customer_orders)\n",
    "\n",
    "for key, values in inventory.items():\n",
    "    if key == customer_list[0]:\n",
    "        print(key,\" is in the order\")\n",
    "        i = inventory.get(key) - 1\n",
    "        inventory[key] = i\n",
    "    if key == customer_list[1]:\n",
    "        print(key,\" is in the order\")\n",
    "        i = inventory.get(key) - 1\n",
    "        inventory[key] = i\n",
    "    if key == customer_list[2]:\n",
    "        print(key,\" is in the order\")\n",
    "        i = inventory.get(key) - 1\n",
    "        inventory[key] = i\n",
    "\n",
    "print(\"\")\n",
    "print(\"Updated inventory:\")\n",
    "for keys, values in inventory.items():\n",
    "    print(keys,values)"
   ]
  }
 ],
 "metadata": {
  "kernelspec": {
   "display_name": "Python 3 (ipykernel)",
   "language": "python",
   "name": "python3"
  },
  "language_info": {
   "codemirror_mode": {
    "name": "ipython",
    "version": 3
   },
   "file_extension": ".py",
   "mimetype": "text/x-python",
   "name": "python",
   "nbconvert_exporter": "python",
   "pygments_lexer": "ipython3",
   "version": "3.12.4"
  }
 },
 "nbformat": 4,
 "nbformat_minor": 4
}
